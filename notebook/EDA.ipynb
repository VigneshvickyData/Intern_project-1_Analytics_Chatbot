{
 "cells": [
  {
   "cell_type": "markdown",
   "metadata": {},
   "source": [
    "# Internship Task 1:Chatbot Usage Analytics\n",
    "\n",
    " Life cycle of this task \n",
    "* Understanding the problem statement\n",
    "* Data collection\n",
    "* Exploration Data Analysis(EDA)\n",
    "* Data Cleaning and Preprocessing\n",
    "* Building Analystic Dashboard\n",
    "\n",
    "## About\n",
    "Chatbots have become an integral part of customer interactions, providing automated responses to user queries. Understanding chatbot performance and user behavior is crucial to enhancing the overall experience. This task focuses on deriving key metrics from chatbot interactions to track and improve chatbot efficiency.\n",
    "\n",
    "### 1. Problem Statement\n",
    "* As organizations increasingly rely on chatbots for customer support, it becomes essential to monitor and evaluate their performance.\n",
    "* The objective is to analyze user interactions and create a dashboard that highlights key metrics, including:\n",
    "* Total number of queries handled\n",
    "* Most common topics discussed\n",
    "* User satisfaction ratings\n",
    "* This project will leverage the NLP Chatbot dataset from Kaggle to extract insights and build a dashboard to display these metrics.\n",
    "\n",
    "### 2. Data Collection\n",
    "* The dataset used for this project is sourced from Kaggle.\n",
    "* The dataset consists of 10000 rows and 14 columns\n",
    "\n",
    "https://www.kaggle.com/datasets/teamincribo/nlp-chatbot-dataset"
   ]
  },
  {
   "cell_type": "code",
   "execution_count": 1,
   "metadata": {},
   "outputs": [],
   "source": [
    "import pandas as pd\n",
    "import numpy as np\n",
    "import matplotlib.pyplot as plt\n",
    "import plotly.express as px\n",
    "import seaborn as sns\n",
    "import warnings\n",
    "\n",
    "warnings.filterwarnings(\"ignore\")\n",
    "\n",
    "%matplotlib inline"
   ]
  },
  {
   "cell_type": "code",
   "execution_count": 2,
   "metadata": {},
   "outputs": [],
   "source": [
    "df = pd.read_csv(\"data\\chatbot_dataset.csv\")"
   ]
  },
  {
   "cell_type": "code",
   "execution_count": 3,
   "metadata": {},
   "outputs": [
    {
     "data": {
      "text/html": [
       "<div>\n",
       "<style scoped>\n",
       "    .dataframe tbody tr th:only-of-type {\n",
       "        vertical-align: middle;\n",
       "    }\n",
       "\n",
       "    .dataframe tbody tr th {\n",
       "        vertical-align: top;\n",
       "    }\n",
       "\n",
       "    .dataframe thead th {\n",
       "        text-align: right;\n",
       "    }\n",
       "</style>\n",
       "<table border=\"1\" class=\"dataframe\">\n",
       "  <thead>\n",
       "    <tr style=\"text-align: right;\">\n",
       "      <th></th>\n",
       "      <th>User ID</th>\n",
       "      <th>User Utterance</th>\n",
       "      <th>Bot Response</th>\n",
       "      <th>Timestamp</th>\n",
       "      <th>Context/Session ID</th>\n",
       "      <th>Entities</th>\n",
       "      <th>User Feedback</th>\n",
       "      <th>Conversation Outcome</th>\n",
       "      <th>User Profile</th>\n",
       "      <th>Channel/Platform</th>\n",
       "      <th>Language</th>\n",
       "      <th>User Emotion/Sentiment</th>\n",
       "      <th>Location</th>\n",
       "      <th>User Segment</th>\n",
       "    </tr>\n",
       "  </thead>\n",
       "  <tbody>\n",
       "    <tr>\n",
       "      <th>0</th>\n",
       "      <td>uKqYhMMQ5S</td>\n",
       "      <td>Charge bar between follow student.</td>\n",
       "      <td>Important law into large example range. Player...</td>\n",
       "      <td>2023-10-31 18:02:06</td>\n",
       "      <td>4dfe56dc-efe2-49c6-be9f-ce5b84ca4de4</td>\n",
       "      <td>event</td>\n",
       "      <td>negative</td>\n",
       "      <td>incomplete</td>\n",
       "      <td>Annette Henderson</td>\n",
       "      <td>social media</td>\n",
       "      <td>German</td>\n",
       "      <td>confused</td>\n",
       "      <td>Sydney</td>\n",
       "      <td>returning customers</td>\n",
       "    </tr>\n",
       "    <tr>\n",
       "      <th>1</th>\n",
       "      <td>YOonrpgxp9</td>\n",
       "      <td>Bad every reflect huge contain.</td>\n",
       "      <td>Policy argue agree character go recent. When r...</td>\n",
       "      <td>2023-10-31 18:02:06</td>\n",
       "      <td>74c97616-9df6-460d-991d-c6f6f6ae5354</td>\n",
       "      <td>location</td>\n",
       "      <td>neutral</td>\n",
       "      <td>specific outcome</td>\n",
       "      <td>Nicholas Haney</td>\n",
       "      <td>mobile app</td>\n",
       "      <td>Chinese</td>\n",
       "      <td>frustrated</td>\n",
       "      <td>London</td>\n",
       "      <td>returning customers</td>\n",
       "    </tr>\n",
       "    <tr>\n",
       "      <th>2</th>\n",
       "      <td>V0IwFXGYAg</td>\n",
       "      <td>Glass remember many dog director under.</td>\n",
       "      <td>Total rise unit recent data away. Business air...</td>\n",
       "      <td>2023-10-31 18:02:06</td>\n",
       "      <td>f3034d75-d552-4a6c-8c73-0f6b441a7bdf</td>\n",
       "      <td>event</td>\n",
       "      <td>negative</td>\n",
       "      <td>incomplete</td>\n",
       "      <td>David Smith</td>\n",
       "      <td>website chat</td>\n",
       "      <td>Spanish</td>\n",
       "      <td>excited</td>\n",
       "      <td>Tokyo</td>\n",
       "      <td>premium users</td>\n",
       "    </tr>\n",
       "    <tr>\n",
       "      <th>3</th>\n",
       "      <td>3mtwyCBGqy</td>\n",
       "      <td>Help charge record many talk tough.</td>\n",
       "      <td>Artist today decade. Civil score hospital othe...</td>\n",
       "      <td>2023-10-31 18:02:06</td>\n",
       "      <td>46c7bf6a-1da6-4e27-baf5-a138f1e0a1b2</td>\n",
       "      <td>service</td>\n",
       "      <td>negative</td>\n",
       "      <td>incomplete</td>\n",
       "      <td>Susan Wilson</td>\n",
       "      <td>website chat</td>\n",
       "      <td>English</td>\n",
       "      <td>frustrated</td>\n",
       "      <td>Sydney</td>\n",
       "      <td>new users</td>\n",
       "    </tr>\n",
       "    <tr>\n",
       "      <th>4</th>\n",
       "      <td>dSQOFGb8Pq</td>\n",
       "      <td>Position not man much material.</td>\n",
       "      <td>Character serve receive interview interest ord...</td>\n",
       "      <td>2023-10-31 18:02:06</td>\n",
       "      <td>2487c6ce-65c1-48a4-a76f-0aa6a1e92dda</td>\n",
       "      <td>service</td>\n",
       "      <td>neutral</td>\n",
       "      <td>specific outcome</td>\n",
       "      <td>Jennifer Harmon</td>\n",
       "      <td>mobile app</td>\n",
       "      <td>Spanish</td>\n",
       "      <td>confused</td>\n",
       "      <td>New York</td>\n",
       "      <td>returning customers</td>\n",
       "    </tr>\n",
       "  </tbody>\n",
       "</table>\n",
       "</div>"
      ],
      "text/plain": [
       "      User ID                           User Utterance  \\\n",
       "0  uKqYhMMQ5S       Charge bar between follow student.   \n",
       "1  YOonrpgxp9          Bad every reflect huge contain.   \n",
       "2  V0IwFXGYAg  Glass remember many dog director under.   \n",
       "3  3mtwyCBGqy      Help charge record many talk tough.   \n",
       "4  dSQOFGb8Pq          Position not man much material.   \n",
       "\n",
       "                                        Bot Response            Timestamp  \\\n",
       "0  Important law into large example range. Player...  2023-10-31 18:02:06   \n",
       "1  Policy argue agree character go recent. When r...  2023-10-31 18:02:06   \n",
       "2  Total rise unit recent data away. Business air...  2023-10-31 18:02:06   \n",
       "3  Artist today decade. Civil score hospital othe...  2023-10-31 18:02:06   \n",
       "4  Character serve receive interview interest ord...  2023-10-31 18:02:06   \n",
       "\n",
       "                     Context/Session ID  Entities User Feedback  \\\n",
       "0  4dfe56dc-efe2-49c6-be9f-ce5b84ca4de4     event      negative   \n",
       "1  74c97616-9df6-460d-991d-c6f6f6ae5354  location       neutral   \n",
       "2  f3034d75-d552-4a6c-8c73-0f6b441a7bdf     event      negative   \n",
       "3  46c7bf6a-1da6-4e27-baf5-a138f1e0a1b2   service      negative   \n",
       "4  2487c6ce-65c1-48a4-a76f-0aa6a1e92dda   service       neutral   \n",
       "\n",
       "  Conversation Outcome       User Profile Channel/Platform Language  \\\n",
       "0           incomplete  Annette Henderson     social media   German   \n",
       "1     specific outcome     Nicholas Haney       mobile app  Chinese   \n",
       "2           incomplete        David Smith     website chat  Spanish   \n",
       "3           incomplete       Susan Wilson     website chat  English   \n",
       "4     specific outcome    Jennifer Harmon       mobile app  Spanish   \n",
       "\n",
       "  User Emotion/Sentiment  Location         User Segment  \n",
       "0               confused    Sydney  returning customers  \n",
       "1             frustrated    London  returning customers  \n",
       "2                excited     Tokyo        premium users  \n",
       "3             frustrated    Sydney            new users  \n",
       "4               confused  New York  returning customers  "
      ]
     },
     "execution_count": 3,
     "metadata": {},
     "output_type": "execute_result"
    }
   ],
   "source": [
    "df.head()"
   ]
  },
  {
   "cell_type": "code",
   "execution_count": 4,
   "metadata": {},
   "outputs": [
    {
     "data": {
      "text/plain": [
       "(10000, 14)"
      ]
     },
     "execution_count": 4,
     "metadata": {},
     "output_type": "execute_result"
    }
   ],
   "source": [
    "## shape of the dataset\n",
    "df.shape"
   ]
  },
  {
   "cell_type": "code",
   "execution_count": 5,
   "metadata": {},
   "outputs": [
    {
     "data": {
      "text/html": [
       "<div>\n",
       "<style scoped>\n",
       "    .dataframe tbody tr th:only-of-type {\n",
       "        vertical-align: middle;\n",
       "    }\n",
       "\n",
       "    .dataframe tbody tr th {\n",
       "        vertical-align: top;\n",
       "    }\n",
       "\n",
       "    .dataframe thead th {\n",
       "        text-align: right;\n",
       "    }\n",
       "</style>\n",
       "<table border=\"1\" class=\"dataframe\">\n",
       "  <thead>\n",
       "    <tr style=\"text-align: right;\">\n",
       "      <th></th>\n",
       "      <th>User ID</th>\n",
       "      <th>User Utterance</th>\n",
       "      <th>Bot Response</th>\n",
       "      <th>Timestamp</th>\n",
       "      <th>Context/Session ID</th>\n",
       "      <th>Entities</th>\n",
       "      <th>User Feedback</th>\n",
       "      <th>Conversation Outcome</th>\n",
       "      <th>User Profile</th>\n",
       "      <th>Channel/Platform</th>\n",
       "      <th>Language</th>\n",
       "      <th>User Emotion/Sentiment</th>\n",
       "      <th>Location</th>\n",
       "      <th>User Segment</th>\n",
       "    </tr>\n",
       "  </thead>\n",
       "  <tbody>\n",
       "    <tr>\n",
       "      <th>count</th>\n",
       "      <td>10000</td>\n",
       "      <td>10000</td>\n",
       "      <td>10000</td>\n",
       "      <td>10000</td>\n",
       "      <td>10000</td>\n",
       "      <td>10000</td>\n",
       "      <td>10000</td>\n",
       "      <td>10000</td>\n",
       "      <td>10000</td>\n",
       "      <td>10000</td>\n",
       "      <td>10000</td>\n",
       "      <td>10000</td>\n",
       "      <td>10000</td>\n",
       "      <td>10000</td>\n",
       "    </tr>\n",
       "    <tr>\n",
       "      <th>unique</th>\n",
       "      <td>10000</td>\n",
       "      <td>10000</td>\n",
       "      <td>10000</td>\n",
       "      <td>2</td>\n",
       "      <td>10000</td>\n",
       "      <td>5</td>\n",
       "      <td>3</td>\n",
       "      <td>3</td>\n",
       "      <td>9386</td>\n",
       "      <td>4</td>\n",
       "      <td>5</td>\n",
       "      <td>5</td>\n",
       "      <td>5</td>\n",
       "      <td>3</td>\n",
       "    </tr>\n",
       "    <tr>\n",
       "      <th>top</th>\n",
       "      <td>uKqYhMMQ5S</td>\n",
       "      <td>Charge bar between follow student.</td>\n",
       "      <td>Important law into large example range. Player...</td>\n",
       "      <td>2023-10-31 18:02:06</td>\n",
       "      <td>4dfe56dc-efe2-49c6-be9f-ce5b84ca4de4</td>\n",
       "      <td>service</td>\n",
       "      <td>neutral</td>\n",
       "      <td>successful</td>\n",
       "      <td>Matthew Williams</td>\n",
       "      <td>social media</td>\n",
       "      <td>English</td>\n",
       "      <td>neutral</td>\n",
       "      <td>New York</td>\n",
       "      <td>premium users</td>\n",
       "    </tr>\n",
       "    <tr>\n",
       "      <th>freq</th>\n",
       "      <td>1</td>\n",
       "      <td>1</td>\n",
       "      <td>1</td>\n",
       "      <td>6147</td>\n",
       "      <td>1</td>\n",
       "      <td>2029</td>\n",
       "      <td>3353</td>\n",
       "      <td>3355</td>\n",
       "      <td>7</td>\n",
       "      <td>2585</td>\n",
       "      <td>2062</td>\n",
       "      <td>2056</td>\n",
       "      <td>2073</td>\n",
       "      <td>3371</td>\n",
       "    </tr>\n",
       "  </tbody>\n",
       "</table>\n",
       "</div>"
      ],
      "text/plain": [
       "           User ID                      User Utterance  \\\n",
       "count        10000                               10000   \n",
       "unique       10000                               10000   \n",
       "top     uKqYhMMQ5S  Charge bar between follow student.   \n",
       "freq             1                                   1   \n",
       "\n",
       "                                             Bot Response  \\\n",
       "count                                               10000   \n",
       "unique                                              10000   \n",
       "top     Important law into large example range. Player...   \n",
       "freq                                                    1   \n",
       "\n",
       "                  Timestamp                    Context/Session ID Entities  \\\n",
       "count                 10000                                 10000    10000   \n",
       "unique                    2                                 10000        5   \n",
       "top     2023-10-31 18:02:06  4dfe56dc-efe2-49c6-be9f-ce5b84ca4de4  service   \n",
       "freq                   6147                                     1     2029   \n",
       "\n",
       "       User Feedback Conversation Outcome      User Profile Channel/Platform  \\\n",
       "count          10000                10000             10000            10000   \n",
       "unique             3                    3              9386                4   \n",
       "top          neutral           successful  Matthew Williams     social media   \n",
       "freq            3353                 3355                 7             2585   \n",
       "\n",
       "       Language User Emotion/Sentiment  Location   User Segment  \n",
       "count     10000                  10000     10000          10000  \n",
       "unique        5                      5         5              3  \n",
       "top     English                neutral  New York  premium users  \n",
       "freq       2062                   2056      2073           3371  "
      ]
     },
     "execution_count": 5,
     "metadata": {},
     "output_type": "execute_result"
    }
   ],
   "source": [
    "## Display summary of the dataset\n",
    "df.describe()"
   ]
  },
  {
   "cell_type": "code",
   "execution_count": 6,
   "metadata": {},
   "outputs": [
    {
     "name": "stdout",
     "output_type": "stream",
     "text": [
      "<class 'pandas.core.frame.DataFrame'>\n",
      "RangeIndex: 10000 entries, 0 to 9999\n",
      "Data columns (total 14 columns):\n",
      " #   Column                  Non-Null Count  Dtype \n",
      "---  ------                  --------------  ----- \n",
      " 0   User ID                 10000 non-null  object\n",
      " 1   User Utterance          10000 non-null  object\n",
      " 2   Bot Response            10000 non-null  object\n",
      " 3   Timestamp               10000 non-null  object\n",
      " 4   Context/Session ID      10000 non-null  object\n",
      " 5   Entities                10000 non-null  object\n",
      " 6   User Feedback           10000 non-null  object\n",
      " 7   Conversation Outcome    10000 non-null  object\n",
      " 8   User Profile            10000 non-null  object\n",
      " 9   Channel/Platform        10000 non-null  object\n",
      " 10  Language                10000 non-null  object\n",
      " 11  User Emotion/Sentiment  10000 non-null  object\n",
      " 12  Location                10000 non-null  object\n",
      " 13  User Segment            10000 non-null  object\n",
      "dtypes: object(14)\n",
      "memory usage: 1.1+ MB\n"
     ]
    }
   ],
   "source": [
    "## check Null and Dtypes\n",
    "df.info()"
   ]
  },
  {
   "cell_type": "code",
   "execution_count": null,
   "metadata": {},
   "outputs": [],
   "source": [
    "## No null values & only object dtypes"
   ]
  },
  {
   "cell_type": "code",
   "execution_count": 7,
   "metadata": {},
   "outputs": [
    {
     "data": {
      "text/plain": [
       "0       False\n",
       "1       False\n",
       "2       False\n",
       "3       False\n",
       "4       False\n",
       "        ...  \n",
       "9995    False\n",
       "9996    False\n",
       "9997    False\n",
       "9998    False\n",
       "9999    False\n",
       "Length: 10000, dtype: bool"
      ]
     },
     "execution_count": 7,
     "metadata": {},
     "output_type": "execute_result"
    }
   ],
   "source": [
    "df.duplicated()"
   ]
  },
  {
   "cell_type": "code",
   "execution_count": 8,
   "metadata": {},
   "outputs": [
    {
     "name": "stdout",
     "output_type": "stream",
     "text": [
      "Index(['User ID', 'User Utterance', 'Bot Response', 'Timestamp',\n",
      "       'Context/Session ID', 'Entities', 'User Feedback',\n",
      "       'Conversation Outcome', 'User Profile', 'Channel/Platform', 'Language',\n",
      "       'User Emotion/Sentiment', 'Location', 'User Segment'],\n",
      "      dtype='object')\n"
     ]
    }
   ],
   "source": [
    "## columns names\n",
    "print(df.columns)\n"
   ]
  },
  {
   "cell_type": "code",
   "execution_count": 9,
   "metadata": {},
   "outputs": [],
   "source": [
    "df.columns = df.columns.str.strip()  # Removes any leading/trailing spaces from column names\n"
   ]
  },
  {
   "cell_type": "code",
   "execution_count": 10,
   "metadata": {},
   "outputs": [
    {
     "data": {
      "text/html": [
       "<div>\n",
       "<style scoped>\n",
       "    .dataframe tbody tr th:only-of-type {\n",
       "        vertical-align: middle;\n",
       "    }\n",
       "\n",
       "    .dataframe tbody tr th {\n",
       "        vertical-align: top;\n",
       "    }\n",
       "\n",
       "    .dataframe thead th {\n",
       "        text-align: right;\n",
       "    }\n",
       "</style>\n",
       "<table border=\"1\" class=\"dataframe\">\n",
       "  <thead>\n",
       "    <tr style=\"text-align: right;\">\n",
       "      <th></th>\n",
       "      <th>User ID</th>\n",
       "      <th>User Utterance</th>\n",
       "      <th>Bot Response</th>\n",
       "      <th>Timestamp</th>\n",
       "      <th>Context/Session ID</th>\n",
       "      <th>Entities</th>\n",
       "      <th>User Feedback</th>\n",
       "      <th>Conversation Outcome</th>\n",
       "      <th>User Profile</th>\n",
       "      <th>Channel/Platform</th>\n",
       "      <th>Language</th>\n",
       "      <th>User Emotion/Sentiment</th>\n",
       "      <th>Location</th>\n",
       "      <th>User Segment</th>\n",
       "      <th>Year</th>\n",
       "      <th>Month</th>\n",
       "      <th>Day</th>\n",
       "      <th>Hour</th>\n",
       "    </tr>\n",
       "  </thead>\n",
       "  <tbody>\n",
       "    <tr>\n",
       "      <th>0</th>\n",
       "      <td>uKqYhMMQ5S</td>\n",
       "      <td>Charge bar between follow student.</td>\n",
       "      <td>Important law into large example range. Player...</td>\n",
       "      <td>2023-10-31 18:02:06</td>\n",
       "      <td>4dfe56dc-efe2-49c6-be9f-ce5b84ca4de4</td>\n",
       "      <td>event</td>\n",
       "      <td>negative</td>\n",
       "      <td>incomplete</td>\n",
       "      <td>Annette Henderson</td>\n",
       "      <td>social media</td>\n",
       "      <td>German</td>\n",
       "      <td>confused</td>\n",
       "      <td>Sydney</td>\n",
       "      <td>returning customers</td>\n",
       "      <td>2023</td>\n",
       "      <td>10</td>\n",
       "      <td>31</td>\n",
       "      <td>18</td>\n",
       "    </tr>\n",
       "  </tbody>\n",
       "</table>\n",
       "</div>"
      ],
      "text/plain": [
       "      User ID                      User Utterance  \\\n",
       "0  uKqYhMMQ5S  Charge bar between follow student.   \n",
       "\n",
       "                                        Bot Response           Timestamp  \\\n",
       "0  Important law into large example range. Player... 2023-10-31 18:02:06   \n",
       "\n",
       "                     Context/Session ID Entities User Feedback  \\\n",
       "0  4dfe56dc-efe2-49c6-be9f-ce5b84ca4de4    event      negative   \n",
       "\n",
       "  Conversation Outcome       User Profile Channel/Platform Language  \\\n",
       "0           incomplete  Annette Henderson     social media   German   \n",
       "\n",
       "  User Emotion/Sentiment Location         User Segment  Year  Month  Day  Hour  \n",
       "0               confused   Sydney  returning customers  2023     10   31    18  "
      ]
     },
     "execution_count": 10,
     "metadata": {},
     "output_type": "execute_result"
    }
   ],
   "source": [
    "## convert date column\n",
    "df['Timestamp'] = pd.to_datetime(df['Timestamp'])\n",
    "df['Year'] = df['Timestamp'].dt.year\n",
    "df['Month'] = df['Timestamp'].dt.month\n",
    "df['Day'] = df['Timestamp'].dt.day\n",
    "df['Hour'] = df['Timestamp'].dt.hour\n",
    "\n",
    "df.head(1)"
   ]
  },
  {
   "cell_type": "code",
   "execution_count": 11,
   "metadata": {},
   "outputs": [
    {
     "name": "stdout",
     "output_type": "stream",
     "text": [
      "Numeric_Columns: ['Year', 'Month', 'Day', 'Hour']\n"
     ]
    }
   ],
   "source": [
    "## convert numeric columns\n",
    "numeric_columns =['Year','Month','Day', 'Hour']\n",
    "for col in numeric_columns:\n",
    "    df[col] = pd.to_numeric(df[col], errors='coerce')\n",
    "\n",
    "print(\"Numeric_Columns:\",numeric_columns)\n",
    "   \n"
   ]
  },
  {
   "cell_type": "code",
   "execution_count": 12,
   "metadata": {},
   "outputs": [
    {
     "name": "stdout",
     "output_type": "stream",
     "text": [
      "Categorical_Columns: ['User Profile', 'Channel/Platform', 'Language', 'User Segment']\n"
     ]
    }
   ],
   "source": [
    "## convert categorical columns\n",
    "categorical_columns = ['User Profile','Channel/Platform','Language','User Segment']\n",
    "for col in categorical_columns:\n",
    "    df[col] = df[col].astype('category')\n",
    "print(\"Categorical_Columns:\",categorical_columns)    "
   ]
  },
  {
   "cell_type": "code",
   "execution_count": 13,
   "metadata": {},
   "outputs": [
    {
     "data": {
      "image/png": "[encoded data removed]",
      "text/plain": [
       "<Figure size 1200x800 with 4 Axes>"
      ]
     },
     "metadata": {},
     "output_type": "display_data"
    }
   ],
   "source": [
    "## Histograms plot for numeric_columns\n",
    "columns_to_plot = ['Year','Month','Day','Hour']\n",
    "plt.figure(figsize=(12, 8))\n",
    "\n",
    "for i, col in enumerate(columns_to_plot,1):\n",
    "    plt.subplot(2, 2, i)\n",
    "    df[col].plot(kind='hist', bins=10, edgecolor='black', title=f'{col} Distribution')\n",
    "    plt.xlabel(col)\n",
    "    plt.ylabel('Frequency')\n",
    "plt.tight_layout()\n",
    "plt.show()    "
   ]
  },
  {
   "cell_type": "code",
   "execution_count": 14,
   "metadata": {},
   "outputs": [
    {
     "data": {
      "image/png": "[encoded data removed]",
      "text/plain": [
       "<Figure size 1200x800 with 4 Axes>"
      ]
     },
     "metadata": {},
     "output_type": "display_data"
    }
   ],
   "source": [
    "## Bar plots for categorical columns\n",
    "categorical_columns = ['User Profile', 'Channel/Platform','Language','User Segment']\n",
    "plt.figure(figsize=(12, 8))\n",
    "\n",
    "for i, col in enumerate(categorical_columns,1):\n",
    "    plt.subplot(2, 2, i)\n",
    "    sns.countplot(data=df, x=col, palette='Set2')\n",
    "    plt.title(f'{col} Distribution')\n",
    "    plt.xlabel(col)\n",
    "    plt.ylabel('Frequency')\n",
    "plt.tight_layout()\n",
    "plt.show() "
   ]
  },
  {
   "cell_type": "markdown",
   "metadata": {},
   "source": [
    "## Main tasks of this Task 1"
   ]
  },
  {
   "cell_type": "markdown",
   "metadata": {},
   "source": [
    "# Count the Number of Queries"
   ]
  },
  {
   "cell_type": "code",
   "execution_count": 15,
   "metadata": {},
   "outputs": [
    {
     "name": "stdout",
     "output_type": "stream",
     "text": [
      "Total Number of Queries: 10000\n"
     ]
    }
   ],
   "source": [
    "# total number of queries\n",
    "total_queries = df.shape[0]\n",
    "print(f\"Total Number of Queries: {total_queries}\")"
   ]
  },
  {
   "cell_type": "code",
   "execution_count": 16,
   "metadata": {},
   "outputs": [
    {
     "name": "stdout",
     "output_type": "stream",
     "text": [
      "\n",
      "Queries by Channel/Platform:\n",
      "Channel/Platform\n",
      "social media    2585\n",
      "mobile app      2526\n",
      "website chat    2485\n",
      "email           2404\n",
      "Name: count, dtype: int64\n"
     ]
    }
   ],
   "source": [
    "#queries per channel/platform\n",
    "queries_by_channel = df['Channel/Platform'].value_counts()\n",
    "print(\"\\nQueries by Channel/Platform:\")\n",
    "print(queries_by_channel)"
   ]
  },
  {
   "cell_type": "code",
   "execution_count": 17,
   "metadata": {},
   "outputs": [],
   "source": [
    "#queries over time\n",
    "df['Timestamp'] = pd.to_datetime(df['Timestamp'])"
   ]
  },
  {
   "cell_type": "code",
   "execution_count": 18,
   "metadata": {},
   "outputs": [
    {
     "name": "stdout",
     "output_type": "stream",
     "text": [
      "\n",
      "Queries Over Time (Daily):\n",
      "Timestamp\n",
      "2023-10-31    10000\n",
      "dtype: int64\n"
     ]
    }
   ],
   "source": [
    "\n",
    "queries_over_time = df.groupby(df['Timestamp'].dt.date).size()\n",
    "print(\"\\nQueries Over Time (Daily):\")\n",
    "print(queries_over_time)"
   ]
  },
  {
   "cell_type": "code",
   "execution_count": 19,
   "metadata": {},
   "outputs": [
    {
     "name": "stdout",
     "output_type": "stream",
     "text": [
      "\n",
      "Queries Over Time (Hourly):\n",
      "Timestamp\n",
      "18    10000\n",
      "dtype: int64\n"
     ]
    }
   ],
   "source": [
    "queries_by_hour = df.groupby(df['Timestamp'].dt.hour).size()\n",
    "print(\"\\nQueries Over Time (Hourly):\")\n",
    "print(queries_by_hour)"
   ]
  },
  {
   "cell_type": "markdown",
   "metadata": {},
   "source": [
    "### Insights\n",
    "Social Media (2585) and mobile app(2526) lead in queries."
   ]
  },
  {
   "cell_type": "markdown",
   "metadata": {},
   "source": [
    "# Most common topics"
   ]
  },
  {
   "cell_type": "code",
   "execution_count": 20,
   "metadata": {},
   "outputs": [
    {
     "data": {
      "text/html": [
       "<div>\n",
       "<style scoped>\n",
       "    .dataframe tbody tr th:only-of-type {\n",
       "        vertical-align: middle;\n",
       "    }\n",
       "\n",
       "    .dataframe tbody tr th {\n",
       "        vertical-align: top;\n",
       "    }\n",
       "\n",
       "    .dataframe thead th {\n",
       "        text-align: right;\n",
       "    }\n",
       "</style>\n",
       "<table border=\"1\" class=\"dataframe\">\n",
       "  <thead>\n",
       "    <tr style=\"text-align: right;\">\n",
       "      <th></th>\n",
       "      <th>User ID</th>\n",
       "      <th>User Utterance</th>\n",
       "      <th>Bot Response</th>\n",
       "      <th>Timestamp</th>\n",
       "      <th>Context/Session ID</th>\n",
       "      <th>Entities</th>\n",
       "      <th>User Feedback</th>\n",
       "      <th>Conversation Outcome</th>\n",
       "      <th>User Profile</th>\n",
       "      <th>Channel/Platform</th>\n",
       "      <th>Language</th>\n",
       "      <th>User Emotion/Sentiment</th>\n",
       "      <th>Location</th>\n",
       "      <th>User Segment</th>\n",
       "      <th>Year</th>\n",
       "      <th>Month</th>\n",
       "      <th>Day</th>\n",
       "      <th>Hour</th>\n",
       "    </tr>\n",
       "  </thead>\n",
       "  <tbody>\n",
       "    <tr>\n",
       "      <th>0</th>\n",
       "      <td>uKqYhMMQ5S</td>\n",
       "      <td>Charge bar between follow student.</td>\n",
       "      <td>Important law into large example range. Player...</td>\n",
       "      <td>2023-10-31 18:02:06</td>\n",
       "      <td>4dfe56dc-efe2-49c6-be9f-ce5b84ca4de4</td>\n",
       "      <td>event</td>\n",
       "      <td>negative</td>\n",
       "      <td>incomplete</td>\n",
       "      <td>Annette Henderson</td>\n",
       "      <td>social media</td>\n",
       "      <td>German</td>\n",
       "      <td>confused</td>\n",
       "      <td>Sydney</td>\n",
       "      <td>returning customers</td>\n",
       "      <td>2023</td>\n",
       "      <td>10</td>\n",
       "      <td>31</td>\n",
       "      <td>18</td>\n",
       "    </tr>\n",
       "    <tr>\n",
       "      <th>1</th>\n",
       "      <td>YOonrpgxp9</td>\n",
       "      <td>Bad every reflect huge contain.</td>\n",
       "      <td>Policy argue agree character go recent. When r...</td>\n",
       "      <td>2023-10-31 18:02:06</td>\n",
       "      <td>74c97616-9df6-460d-991d-c6f6f6ae5354</td>\n",
       "      <td>location</td>\n",
       "      <td>neutral</td>\n",
       "      <td>specific outcome</td>\n",
       "      <td>Nicholas Haney</td>\n",
       "      <td>mobile app</td>\n",
       "      <td>Chinese</td>\n",
       "      <td>frustrated</td>\n",
       "      <td>London</td>\n",
       "      <td>returning customers</td>\n",
       "      <td>2023</td>\n",
       "      <td>10</td>\n",
       "      <td>31</td>\n",
       "      <td>18</td>\n",
       "    </tr>\n",
       "  </tbody>\n",
       "</table>\n",
       "</div>"
      ],
      "text/plain": [
       "      User ID                      User Utterance  \\\n",
       "0  uKqYhMMQ5S  Charge bar between follow student.   \n",
       "1  YOonrpgxp9     Bad every reflect huge contain.   \n",
       "\n",
       "                                        Bot Response           Timestamp  \\\n",
       "0  Important law into large example range. Player... 2023-10-31 18:02:06   \n",
       "1  Policy argue agree character go recent. When r... 2023-10-31 18:02:06   \n",
       "\n",
       "                     Context/Session ID  Entities User Feedback  \\\n",
       "0  4dfe56dc-efe2-49c6-be9f-ce5b84ca4de4     event      negative   \n",
       "1  74c97616-9df6-460d-991d-c6f6f6ae5354  location       neutral   \n",
       "\n",
       "  Conversation Outcome       User Profile Channel/Platform Language  \\\n",
       "0           incomplete  Annette Henderson     social media   German   \n",
       "1     specific outcome     Nicholas Haney       mobile app  Chinese   \n",
       "\n",
       "  User Emotion/Sentiment Location         User Segment  Year  Month  Day  Hour  \n",
       "0               confused   Sydney  returning customers  2023     10   31    18  \n",
       "1             frustrated   London  returning customers  2023     10   31    18  "
      ]
     },
     "execution_count": 20,
     "metadata": {},
     "output_type": "execute_result"
    }
   ],
   "source": [
    "df.head(2)"
   ]
  },
  {
   "cell_type": "code",
   "execution_count": 21,
   "metadata": {},
   "outputs": [
    {
     "name": "stdout",
     "output_type": "stream",
     "text": [
      "[('service', 2029), ('location', 2024), ('event', 2020), ('date', 1983), ('product', 1944)]\n"
     ]
    }
   ],
   "source": [
    "from collections import Counter\n",
    "\n",
    "# print top 10 most common entities\n",
    "entity_counts = Counter(df['Entities'].dropna())\n",
    "print(entity_counts.most_common(10))"
   ]
  },
  {
   "cell_type": "code",
   "execution_count": 24,
   "metadata": {},
   "outputs": [
    {
     "name": "stdout",
     "output_type": "stream",
     "text": [
      "Most common Keywords: ['ball' 'big' 'blue' 'far' 'figure' 'light' 'live' 'low' 'man' 'rule']\n"
     ]
    }
   ],
   "source": [
    "# Most common words\n",
    "from sklearn.feature_extraction.text import CountVectorizer\n",
    "\n",
    "## top 10 words \n",
    "vectorizer = CountVectorizer(stop_words='english', max_features=10)\n",
    "\n",
    "# fit the model on the 'User Utterance' column\n",
    "common_words = vectorizer.fit_transform(df['User Utterance'])\n",
    "\n",
    "Keywords = vectorizer.get_feature_names_out()\n",
    "print(\"Most common Keywords:\",Keywords)"
   ]
  },
  {
   "cell_type": "code",
   "execution_count": 26,
   "metadata": {},
   "outputs": [
    {
     "data": {
      "image/png": "[encoded data removed]",
      "text/plain": [
       "<Figure size 640x480 with 1 Axes>"
      ]
     },
     "metadata": {},
     "output_type": "display_data"
    }
   ],
   "source": [
    "# convert the entity counts to a dataframe\n",
    "topics_df = pd.DataFrame(entity_counts.most_common(10), columns=['Topic', 'Frequency'])\n",
    "\n",
    "# bar plot\n",
    "sns.barplot(data=topics_df, x='Frequency', y='Topic')\n",
    "plt.title(\"Top 10 Most Common Topics (Entities)\")\n",
    "plt.show()"
   ]
  },
  {
   "cell_type": "code",
   "execution_count": 27,
   "metadata": {},
   "outputs": [],
   "source": [
    "word_counts = zip(Keywords, common_words.toarray().sum(axis=0))\n",
    "word_df = pd.DataFrame(word_counts, columns=['Keyword', 'Frequency'])"
   ]
  },
  {
   "cell_type": "code",
   "execution_count": 29,
   "metadata": {},
   "outputs": [
    {
     "data": {
      "image/png": "[encoded data removed]",
      "text/plain": [
       "<Figure size 640x480 with 1 Axes>"
      ]
     },
     "metadata": {},
     "output_type": "display_data"
    }
   ],
   "source": [
    "# bar plot \n",
    "sns.barplot(data=word_df, x='Frequency', y='Keyword')\n",
    "plt.title(\"Top 10 Most Common Keywords\")\n",
    "plt.show()"
   ]
  },
  {
   "cell_type": "markdown",
   "metadata": {},
   "source": [
    "### Insights\n",
    "The common topics - service,location,event ,date,and product -indicate frequent user queries on these areas.Keywords like \"ball\",\"big\",\"blue\" users focus on product or event attributes."
   ]
  },
  {
   "cell_type": "code",
   "execution_count": 30,
   "metadata": {},
   "outputs": [
    {
     "data": {
      "text/html": [
       "<div>\n",
       "<style scoped>\n",
       "    .dataframe tbody tr th:only-of-type {\n",
       "        vertical-align: middle;\n",
       "    }\n",
       "\n",
       "    .dataframe tbody tr th {\n",
       "        vertical-align: top;\n",
       "    }\n",
       "\n",
       "    .dataframe thead th {\n",
       "        text-align: right;\n",
       "    }\n",
       "</style>\n",
       "<table border=\"1\" class=\"dataframe\">\n",
       "  <thead>\n",
       "    <tr style=\"text-align: right;\">\n",
       "      <th></th>\n",
       "      <th>User ID</th>\n",
       "      <th>User Utterance</th>\n",
       "      <th>Bot Response</th>\n",
       "      <th>Timestamp</th>\n",
       "      <th>Context/Session ID</th>\n",
       "      <th>Entities</th>\n",
       "      <th>User Feedback</th>\n",
       "      <th>Conversation Outcome</th>\n",
       "      <th>User Profile</th>\n",
       "      <th>Channel/Platform</th>\n",
       "      <th>Language</th>\n",
       "      <th>User Emotion/Sentiment</th>\n",
       "      <th>Location</th>\n",
       "      <th>User Segment</th>\n",
       "      <th>Year</th>\n",
       "      <th>Month</th>\n",
       "      <th>Day</th>\n",
       "      <th>Hour</th>\n",
       "    </tr>\n",
       "  </thead>\n",
       "  <tbody>\n",
       "    <tr>\n",
       "      <th>0</th>\n",
       "      <td>uKqYhMMQ5S</td>\n",
       "      <td>Charge bar between follow student.</td>\n",
       "      <td>Important law into large example range. Player...</td>\n",
       "      <td>2023-10-31 18:02:06</td>\n",
       "      <td>4dfe56dc-efe2-49c6-be9f-ce5b84ca4de4</td>\n",
       "      <td>event</td>\n",
       "      <td>negative</td>\n",
       "      <td>incomplete</td>\n",
       "      <td>Annette Henderson</td>\n",
       "      <td>social media</td>\n",
       "      <td>German</td>\n",
       "      <td>confused</td>\n",
       "      <td>Sydney</td>\n",
       "      <td>returning customers</td>\n",
       "      <td>2023</td>\n",
       "      <td>10</td>\n",
       "      <td>31</td>\n",
       "      <td>18</td>\n",
       "    </tr>\n",
       "  </tbody>\n",
       "</table>\n",
       "</div>"
      ],
      "text/plain": [
       "      User ID                      User Utterance  \\\n",
       "0  uKqYhMMQ5S  Charge bar between follow student.   \n",
       "\n",
       "                                        Bot Response           Timestamp  \\\n",
       "0  Important law into large example range. Player... 2023-10-31 18:02:06   \n",
       "\n",
       "                     Context/Session ID Entities User Feedback  \\\n",
       "0  4dfe56dc-efe2-49c6-be9f-ce5b84ca4de4    event      negative   \n",
       "\n",
       "  Conversation Outcome       User Profile Channel/Platform Language  \\\n",
       "0           incomplete  Annette Henderson     social media   German   \n",
       "\n",
       "  User Emotion/Sentiment Location         User Segment  Year  Month  Day  Hour  \n",
       "0               confused   Sydney  returning customers  2023     10   31    18  "
      ]
     },
     "execution_count": 30,
     "metadata": {},
     "output_type": "execute_result"
    }
   ],
   "source": [
    "df.head(1)"
   ]
  },
  {
   "cell_type": "markdown",
   "metadata": {},
   "source": [
    "# User Satisfaction Ratings"
   ]
  },
  {
   "cell_type": "code",
   "execution_count": 31,
   "metadata": {},
   "outputs": [],
   "source": [
    "\n",
    "# mapping quaalitative feedback to numerical values\n",
    "feedback_map = {'positive': 1,'neutral': 0,'negative': -1}\n",
    "## apply the 'user feedback' column and create a new \"Feedback_score\" column\n",
    "\n",
    "df['Feedback_Score'] = df['User Feedback'].map(feedback_map)"
   ]
  },
  {
   "cell_type": "code",
   "execution_count": 32,
   "metadata": {},
   "outputs": [
    {
     "data": {
      "text/html": [
       "<div>\n",
       "<style scoped>\n",
       "    .dataframe tbody tr th:only-of-type {\n",
       "        vertical-align: middle;\n",
       "    }\n",
       "\n",
       "    .dataframe tbody tr th {\n",
       "        vertical-align: top;\n",
       "    }\n",
       "\n",
       "    .dataframe thead th {\n",
       "        text-align: right;\n",
       "    }\n",
       "</style>\n",
       "<table border=\"1\" class=\"dataframe\">\n",
       "  <thead>\n",
       "    <tr style=\"text-align: right;\">\n",
       "      <th></th>\n",
       "      <th>User ID</th>\n",
       "      <th>User Utterance</th>\n",
       "      <th>Bot Response</th>\n",
       "      <th>Timestamp</th>\n",
       "      <th>Context/Session ID</th>\n",
       "      <th>Entities</th>\n",
       "      <th>User Feedback</th>\n",
       "      <th>Conversation Outcome</th>\n",
       "      <th>User Profile</th>\n",
       "      <th>Channel/Platform</th>\n",
       "      <th>Language</th>\n",
       "      <th>User Emotion/Sentiment</th>\n",
       "      <th>Location</th>\n",
       "      <th>User Segment</th>\n",
       "      <th>Year</th>\n",
       "      <th>Month</th>\n",
       "      <th>Day</th>\n",
       "      <th>Hour</th>\n",
       "      <th>Feedback_Score</th>\n",
       "    </tr>\n",
       "  </thead>\n",
       "  <tbody>\n",
       "    <tr>\n",
       "      <th>0</th>\n",
       "      <td>uKqYhMMQ5S</td>\n",
       "      <td>Charge bar between follow student.</td>\n",
       "      <td>Important law into large example range. Player...</td>\n",
       "      <td>2023-10-31 18:02:06</td>\n",
       "      <td>4dfe56dc-efe2-49c6-be9f-ce5b84ca4de4</td>\n",
       "      <td>event</td>\n",
       "      <td>negative</td>\n",
       "      <td>incomplete</td>\n",
       "      <td>Annette Henderson</td>\n",
       "      <td>social media</td>\n",
       "      <td>German</td>\n",
       "      <td>confused</td>\n",
       "      <td>Sydney</td>\n",
       "      <td>returning customers</td>\n",
       "      <td>2023</td>\n",
       "      <td>10</td>\n",
       "      <td>31</td>\n",
       "      <td>18</td>\n",
       "      <td>-1</td>\n",
       "    </tr>\n",
       "  </tbody>\n",
       "</table>\n",
       "</div>"
      ],
      "text/plain": [
       "      User ID                      User Utterance  \\\n",
       "0  uKqYhMMQ5S  Charge bar between follow student.   \n",
       "\n",
       "                                        Bot Response           Timestamp  \\\n",
       "0  Important law into large example range. Player... 2023-10-31 18:02:06   \n",
       "\n",
       "                     Context/Session ID Entities User Feedback  \\\n",
       "0  4dfe56dc-efe2-49c6-be9f-ce5b84ca4de4    event      negative   \n",
       "\n",
       "  Conversation Outcome       User Profile Channel/Platform Language  \\\n",
       "0           incomplete  Annette Henderson     social media   German   \n",
       "\n",
       "  User Emotion/Sentiment Location         User Segment  Year  Month  Day  \\\n",
       "0               confused   Sydney  returning customers  2023     10   31   \n",
       "\n",
       "   Hour  Feedback_Score  \n",
       "0    18              -1  "
      ]
     },
     "execution_count": 32,
     "metadata": {},
     "output_type": "execute_result"
    }
   ],
   "source": [
    "df.head(1)"
   ]
  },
  {
   "cell_type": "code",
   "execution_count": 33,
   "metadata": {},
   "outputs": [
    {
     "name": "stdout",
     "output_type": "stream",
     "text": [
      "Average Satisfaction Rating: -0.0005\n"
     ]
    }
   ],
   "source": [
    "# calcilate the average satisfaction score\n",
    "avg_satisfaction = df ['Feedback_Score'].mean()\n",
    "print(f\"Average Satisfaction Rating: {avg_satisfaction}\")"
   ]
  },
  {
   "cell_type": "code",
   "execution_count": 34,
   "metadata": {},
   "outputs": [
    {
     "name": "stdout",
     "output_type": "stream",
     "text": [
      "User Emotion/Sentiment\n",
      "neutral       2056\n",
      "frustrated    2041\n",
      "excited       1991\n",
      "confused      1962\n",
      "happy         1950\n",
      "Name: count, dtype: int64\n"
     ]
    }
   ],
   "source": [
    "# count each sentiment type in the 'User Emotion/Sentiment' column\n",
    "sentiment_counts = df ['User Emotion/Sentiment'].value_counts()\n",
    "print(sentiment_counts)"
   ]
  },
  {
   "cell_type": "markdown",
   "metadata": {},
   "source": [
    "# create a user satisfaction rating columns with a scale of 1 to 5"
   ]
  },
  {
   "cell_type": "code",
   "execution_count": 35,
   "metadata": {},
   "outputs": [],
   "source": [
    "def calculate_satisfaction(row):\n",
    "    feedback_score = row['Feedback_Score']\n",
    "\n",
    "    sentiment = row['User Emotion/Sentiment']\n",
    "\n",
    "\n",
    "    sentiment_score = {'positive': 2, 'netural':1, 'negative':0}\n",
    "    sentiment_rating = sentiment_score.get(sentiment,1) \n",
    "\n",
    "    ## combine the feedback and sentiment scores to create 1-5 scale rating\n",
    "    combined_score = feedback_score + sentiment_rating\n",
    "\n",
    "    if combined_score >= 3:\n",
    "        return 5\n",
    "    elif combined_score == 2:\n",
    "        return 4\n",
    "    elif combined_score == 1:\n",
    "        return 3\n",
    "    elif combined_score == 0:\n",
    "        return 2\n",
    "    else:\n",
    "        return 1\n",
    "    \n",
    "    ## User_rating column\n",
    "df['User_Rating'] = df.apply(calculate_satisfaction, axis=1)\n"
   ]
  },
  {
   "cell_type": "code",
   "execution_count": 38,
   "metadata": {},
   "outputs": [
    {
     "data": {
      "text/html": [
       "<div>\n",
       "<style scoped>\n",
       "    .dataframe tbody tr th:only-of-type {\n",
       "        vertical-align: middle;\n",
       "    }\n",
       "\n",
       "    .dataframe tbody tr th {\n",
       "        vertical-align: top;\n",
       "    }\n",
       "\n",
       "    .dataframe thead th {\n",
       "        text-align: right;\n",
       "    }\n",
       "</style>\n",
       "<table border=\"1\" class=\"dataframe\">\n",
       "  <thead>\n",
       "    <tr style=\"text-align: right;\">\n",
       "      <th></th>\n",
       "      <th>User ID</th>\n",
       "      <th>User Utterance</th>\n",
       "      <th>Bot Response</th>\n",
       "      <th>Timestamp</th>\n",
       "      <th>Context/Session ID</th>\n",
       "      <th>Entities</th>\n",
       "      <th>User Feedback</th>\n",
       "      <th>Conversation Outcome</th>\n",
       "      <th>User Profile</th>\n",
       "      <th>Channel/Platform</th>\n",
       "      <th>Language</th>\n",
       "      <th>User Emotion/Sentiment</th>\n",
       "      <th>Location</th>\n",
       "      <th>User Segment</th>\n",
       "      <th>Year</th>\n",
       "      <th>Month</th>\n",
       "      <th>Day</th>\n",
       "      <th>Hour</th>\n",
       "      <th>Feedback_Score</th>\n",
       "      <th>User_Rating</th>\n",
       "    </tr>\n",
       "  </thead>\n",
       "  <tbody>\n",
       "    <tr>\n",
       "      <th>0</th>\n",
       "      <td>uKqYhMMQ5S</td>\n",
       "      <td>Charge bar between follow student.</td>\n",
       "      <td>Important law into large example range. Player...</td>\n",
       "      <td>2023-10-31 18:02:06</td>\n",
       "      <td>4dfe56dc-efe2-49c6-be9f-ce5b84ca4de4</td>\n",
       "      <td>event</td>\n",
       "      <td>negative</td>\n",
       "      <td>incomplete</td>\n",
       "      <td>Annette Henderson</td>\n",
       "      <td>social media</td>\n",
       "      <td>German</td>\n",
       "      <td>confused</td>\n",
       "      <td>Sydney</td>\n",
       "      <td>returning customers</td>\n",
       "      <td>2023</td>\n",
       "      <td>10</td>\n",
       "      <td>31</td>\n",
       "      <td>18</td>\n",
       "      <td>-1</td>\n",
       "      <td>2</td>\n",
       "    </tr>\n",
       "    <tr>\n",
       "      <th>1</th>\n",
       "      <td>YOonrpgxp9</td>\n",
       "      <td>Bad every reflect huge contain.</td>\n",
       "      <td>Policy argue agree character go recent. When r...</td>\n",
       "      <td>2023-10-31 18:02:06</td>\n",
       "      <td>74c97616-9df6-460d-991d-c6f6f6ae5354</td>\n",
       "      <td>location</td>\n",
       "      <td>neutral</td>\n",
       "      <td>specific outcome</td>\n",
       "      <td>Nicholas Haney</td>\n",
       "      <td>mobile app</td>\n",
       "      <td>Chinese</td>\n",
       "      <td>frustrated</td>\n",
       "      <td>London</td>\n",
       "      <td>returning customers</td>\n",
       "      <td>2023</td>\n",
       "      <td>10</td>\n",
       "      <td>31</td>\n",
       "      <td>18</td>\n",
       "      <td>0</td>\n",
       "      <td>3</td>\n",
       "    </tr>\n",
       "    <tr>\n",
       "      <th>2</th>\n",
       "      <td>V0IwFXGYAg</td>\n",
       "      <td>Glass remember many dog director under.</td>\n",
       "      <td>Total rise unit recent data away. Business air...</td>\n",
       "      <td>2023-10-31 18:02:06</td>\n",
       "      <td>f3034d75-d552-4a6c-8c73-0f6b441a7bdf</td>\n",
       "      <td>event</td>\n",
       "      <td>negative</td>\n",
       "      <td>incomplete</td>\n",
       "      <td>David Smith</td>\n",
       "      <td>website chat</td>\n",
       "      <td>Spanish</td>\n",
       "      <td>excited</td>\n",
       "      <td>Tokyo</td>\n",
       "      <td>premium users</td>\n",
       "      <td>2023</td>\n",
       "      <td>10</td>\n",
       "      <td>31</td>\n",
       "      <td>18</td>\n",
       "      <td>-1</td>\n",
       "      <td>2</td>\n",
       "    </tr>\n",
       "  </tbody>\n",
       "</table>\n",
       "</div>"
      ],
      "text/plain": [
       "      User ID                           User Utterance  \\\n",
       "0  uKqYhMMQ5S       Charge bar between follow student.   \n",
       "1  YOonrpgxp9          Bad every reflect huge contain.   \n",
       "2  V0IwFXGYAg  Glass remember many dog director under.   \n",
       "\n",
       "                                        Bot Response           Timestamp  \\\n",
       "0  Important law into large example range. Player... 2023-10-31 18:02:06   \n",
       "1  Policy argue agree character go recent. When r... 2023-10-31 18:02:06   \n",
       "2  Total rise unit recent data away. Business air... 2023-10-31 18:02:06   \n",
       "\n",
       "                     Context/Session ID  Entities User Feedback  \\\n",
       "0  4dfe56dc-efe2-49c6-be9f-ce5b84ca4de4     event      negative   \n",
       "1  74c97616-9df6-460d-991d-c6f6f6ae5354  location       neutral   \n",
       "2  f3034d75-d552-4a6c-8c73-0f6b441a7bdf     event      negative   \n",
       "\n",
       "  Conversation Outcome       User Profile Channel/Platform Language  \\\n",
       "0           incomplete  Annette Henderson     social media   German   \n",
       "1     specific outcome     Nicholas Haney       mobile app  Chinese   \n",
       "2           incomplete        David Smith     website chat  Spanish   \n",
       "\n",
       "  User Emotion/Sentiment Location         User Segment  Year  Month  Day  \\\n",
       "0               confused   Sydney  returning customers  2023     10   31   \n",
       "1             frustrated   London  returning customers  2023     10   31   \n",
       "2                excited    Tokyo        premium users  2023     10   31   \n",
       "\n",
       "   Hour  Feedback_Score  User_Rating  \n",
       "0    18              -1            2  \n",
       "1    18               0            3  \n",
       "2    18              -1            2  "
      ]
     },
     "execution_count": 38,
     "metadata": {},
     "output_type": "execute_result"
    }
   ],
   "source": [
    "df.head(3)"
   ]
  },
  {
   "cell_type": "code",
   "execution_count": 37,
   "metadata": {},
   "outputs": [
    {
     "name": "stdout",
     "output_type": "stream",
     "text": [
      "  User Feedback User Emotion/Sentiment  User_Rating\n",
      "0      negative               confused            2\n",
      "1       neutral             frustrated            3\n",
      "2      negative                excited            2\n",
      "3      negative             frustrated            2\n",
      "4       neutral               confused            3\n"
     ]
    }
   ],
   "source": [
    "## display to check the new column\n",
    "print (df[['User Feedback' , 'User Emotion/Sentiment','User_Rating']].head())"
   ]
  },
  {
   "cell_type": "code",
   "execution_count": 39,
   "metadata": {},
   "outputs": [
    {
     "data": {
      "text/html": [
       "<div>\n",
       "<style scoped>\n",
       "    .dataframe tbody tr th:only-of-type {\n",
       "        vertical-align: middle;\n",
       "    }\n",
       "\n",
       "    .dataframe tbody tr th {\n",
       "        vertical-align: top;\n",
       "    }\n",
       "\n",
       "    .dataframe thead th {\n",
       "        text-align: right;\n",
       "    }\n",
       "</style>\n",
       "<table border=\"1\" class=\"dataframe\">\n",
       "  <thead>\n",
       "    <tr style=\"text-align: right;\">\n",
       "      <th></th>\n",
       "      <th>User ID</th>\n",
       "      <th>User Utterance</th>\n",
       "      <th>Bot Response</th>\n",
       "      <th>Timestamp</th>\n",
       "      <th>Context/Session ID</th>\n",
       "      <th>Entities</th>\n",
       "      <th>User Feedback</th>\n",
       "      <th>Conversation Outcome</th>\n",
       "      <th>User Profile</th>\n",
       "      <th>Channel/Platform</th>\n",
       "      <th>Language</th>\n",
       "      <th>User Emotion/Sentiment</th>\n",
       "      <th>Location</th>\n",
       "      <th>User Segment</th>\n",
       "      <th>Year</th>\n",
       "      <th>Month</th>\n",
       "      <th>Day</th>\n",
       "      <th>Hour</th>\n",
       "      <th>Feedback_Score</th>\n",
       "      <th>User_Rating</th>\n",
       "    </tr>\n",
       "  </thead>\n",
       "  <tbody>\n",
       "    <tr>\n",
       "      <th>0</th>\n",
       "      <td>uKqYhMMQ5S</td>\n",
       "      <td>Charge bar between follow student.</td>\n",
       "      <td>Important law into large example range. Player...</td>\n",
       "      <td>2023-10-31 18:02:06</td>\n",
       "      <td>4dfe56dc-efe2-49c6-be9f-ce5b84ca4de4</td>\n",
       "      <td>event</td>\n",
       "      <td>negative</td>\n",
       "      <td>incomplete</td>\n",
       "      <td>Annette Henderson</td>\n",
       "      <td>social media</td>\n",
       "      <td>German</td>\n",
       "      <td>confused</td>\n",
       "      <td>Sydney</td>\n",
       "      <td>returning customers</td>\n",
       "      <td>2023</td>\n",
       "      <td>10</td>\n",
       "      <td>31</td>\n",
       "      <td>18</td>\n",
       "      <td>-1</td>\n",
       "      <td>2</td>\n",
       "    </tr>\n",
       "    <tr>\n",
       "      <th>1</th>\n",
       "      <td>YOonrpgxp9</td>\n",
       "      <td>Bad every reflect huge contain.</td>\n",
       "      <td>Policy argue agree character go recent. When r...</td>\n",
       "      <td>2023-10-31 18:02:06</td>\n",
       "      <td>74c97616-9df6-460d-991d-c6f6f6ae5354</td>\n",
       "      <td>location</td>\n",
       "      <td>neutral</td>\n",
       "      <td>specific outcome</td>\n",
       "      <td>Nicholas Haney</td>\n",
       "      <td>mobile app</td>\n",
       "      <td>Chinese</td>\n",
       "      <td>frustrated</td>\n",
       "      <td>London</td>\n",
       "      <td>returning customers</td>\n",
       "      <td>2023</td>\n",
       "      <td>10</td>\n",
       "      <td>31</td>\n",
       "      <td>18</td>\n",
       "      <td>0</td>\n",
       "      <td>3</td>\n",
       "    </tr>\n",
       "    <tr>\n",
       "      <th>2</th>\n",
       "      <td>V0IwFXGYAg</td>\n",
       "      <td>Glass remember many dog director under.</td>\n",
       "      <td>Total rise unit recent data away. Business air...</td>\n",
       "      <td>2023-10-31 18:02:06</td>\n",
       "      <td>f3034d75-d552-4a6c-8c73-0f6b441a7bdf</td>\n",
       "      <td>event</td>\n",
       "      <td>negative</td>\n",
       "      <td>incomplete</td>\n",
       "      <td>David Smith</td>\n",
       "      <td>website chat</td>\n",
       "      <td>Spanish</td>\n",
       "      <td>excited</td>\n",
       "      <td>Tokyo</td>\n",
       "      <td>premium users</td>\n",
       "      <td>2023</td>\n",
       "      <td>10</td>\n",
       "      <td>31</td>\n",
       "      <td>18</td>\n",
       "      <td>-1</td>\n",
       "      <td>2</td>\n",
       "    </tr>\n",
       "    <tr>\n",
       "      <th>3</th>\n",
       "      <td>3mtwyCBGqy</td>\n",
       "      <td>Help charge record many talk tough.</td>\n",
       "      <td>Artist today decade. Civil score hospital othe...</td>\n",
       "      <td>2023-10-31 18:02:06</td>\n",
       "      <td>46c7bf6a-1da6-4e27-baf5-a138f1e0a1b2</td>\n",
       "      <td>service</td>\n",
       "      <td>negative</td>\n",
       "      <td>incomplete</td>\n",
       "      <td>Susan Wilson</td>\n",
       "      <td>website chat</td>\n",
       "      <td>English</td>\n",
       "      <td>frustrated</td>\n",
       "      <td>Sydney</td>\n",
       "      <td>new users</td>\n",
       "      <td>2023</td>\n",
       "      <td>10</td>\n",
       "      <td>31</td>\n",
       "      <td>18</td>\n",
       "      <td>-1</td>\n",
       "      <td>2</td>\n",
       "    </tr>\n",
       "    <tr>\n",
       "      <th>4</th>\n",
       "      <td>dSQOFGb8Pq</td>\n",
       "      <td>Position not man much material.</td>\n",
       "      <td>Character serve receive interview interest ord...</td>\n",
       "      <td>2023-10-31 18:02:06</td>\n",
       "      <td>2487c6ce-65c1-48a4-a76f-0aa6a1e92dda</td>\n",
       "      <td>service</td>\n",
       "      <td>neutral</td>\n",
       "      <td>specific outcome</td>\n",
       "      <td>Jennifer Harmon</td>\n",
       "      <td>mobile app</td>\n",
       "      <td>Spanish</td>\n",
       "      <td>confused</td>\n",
       "      <td>New York</td>\n",
       "      <td>returning customers</td>\n",
       "      <td>2023</td>\n",
       "      <td>10</td>\n",
       "      <td>31</td>\n",
       "      <td>18</td>\n",
       "      <td>0</td>\n",
       "      <td>3</td>\n",
       "    </tr>\n",
       "  </tbody>\n",
       "</table>\n",
       "</div>"
      ],
      "text/plain": [
       "      User ID                           User Utterance  \\\n",
       "0  uKqYhMMQ5S       Charge bar between follow student.   \n",
       "1  YOonrpgxp9          Bad every reflect huge contain.   \n",
       "2  V0IwFXGYAg  Glass remember many dog director under.   \n",
       "3  3mtwyCBGqy      Help charge record many talk tough.   \n",
       "4  dSQOFGb8Pq          Position not man much material.   \n",
       "\n",
       "                                        Bot Response           Timestamp  \\\n",
       "0  Important law into large example range. Player... 2023-10-31 18:02:06   \n",
       "1  Policy argue agree character go recent. When r... 2023-10-31 18:02:06   \n",
       "2  Total rise unit recent data away. Business air... 2023-10-31 18:02:06   \n",
       "3  Artist today decade. Civil score hospital othe... 2023-10-31 18:02:06   \n",
       "4  Character serve receive interview interest ord... 2023-10-31 18:02:06   \n",
       "\n",
       "                     Context/Session ID  Entities User Feedback  \\\n",
       "0  4dfe56dc-efe2-49c6-be9f-ce5b84ca4de4     event      negative   \n",
       "1  74c97616-9df6-460d-991d-c6f6f6ae5354  location       neutral   \n",
       "2  f3034d75-d552-4a6c-8c73-0f6b441a7bdf     event      negative   \n",
       "3  46c7bf6a-1da6-4e27-baf5-a138f1e0a1b2   service      negative   \n",
       "4  2487c6ce-65c1-48a4-a76f-0aa6a1e92dda   service       neutral   \n",
       "\n",
       "  Conversation Outcome       User Profile Channel/Platform Language  \\\n",
       "0           incomplete  Annette Henderson     social media   German   \n",
       "1     specific outcome     Nicholas Haney       mobile app  Chinese   \n",
       "2           incomplete        David Smith     website chat  Spanish   \n",
       "3           incomplete       Susan Wilson     website chat  English   \n",
       "4     specific outcome    Jennifer Harmon       mobile app  Spanish   \n",
       "\n",
       "  User Emotion/Sentiment  Location         User Segment  Year  Month  Day  \\\n",
       "0               confused    Sydney  returning customers  2023     10   31   \n",
       "1             frustrated    London  returning customers  2023     10   31   \n",
       "2                excited     Tokyo        premium users  2023     10   31   \n",
       "3             frustrated    Sydney            new users  2023     10   31   \n",
       "4               confused  New York  returning customers  2023     10   31   \n",
       "\n",
       "   Hour  Feedback_Score  User_Rating  \n",
       "0    18              -1            2  \n",
       "1    18               0            3  \n",
       "2    18              -1            2  \n",
       "3    18              -1            2  \n",
       "4    18               0            3  "
      ]
     },
     "execution_count": 39,
     "metadata": {},
     "output_type": "execute_result"
    }
   ],
   "source": [
    "df.head()"
   ]
  },
  {
   "cell_type": "code",
   "execution_count": 40,
   "metadata": {},
   "outputs": [],
   "source": [
    "# save the processed data \n",
    "df.to_csv('Processed_dataset.csv', index=False)"
   ]
  },
  {
   "cell_type": "code",
   "execution_count": 41,
   "metadata": {},
   "outputs": [],
   "source": [
    "df = pd.read_csv('Processed_dataset.csv')"
   ]
  },
  {
   "cell_type": "code",
   "execution_count": 42,
   "metadata": {},
   "outputs": [
    {
     "data": {
      "text/html": [
       "<div>\n",
       "<style scoped>\n",
       "    .dataframe tbody tr th:only-of-type {\n",
       "        vertical-align: middle;\n",
       "    }\n",
       "\n",
       "    .dataframe tbody tr th {\n",
       "        vertical-align: top;\n",
       "    }\n",
       "\n",
       "    .dataframe thead th {\n",
       "        text-align: right;\n",
       "    }\n",
       "</style>\n",
       "<table border=\"1\" class=\"dataframe\">\n",
       "  <thead>\n",
       "    <tr style=\"text-align: right;\">\n",
       "      <th></th>\n",
       "      <th>User ID</th>\n",
       "      <th>User Utterance</th>\n",
       "      <th>Bot Response</th>\n",
       "      <th>Timestamp</th>\n",
       "      <th>Context/Session ID</th>\n",
       "      <th>Entities</th>\n",
       "      <th>User Feedback</th>\n",
       "      <th>Conversation Outcome</th>\n",
       "      <th>User Profile</th>\n",
       "      <th>Channel/Platform</th>\n",
       "      <th>Language</th>\n",
       "      <th>User Emotion/Sentiment</th>\n",
       "      <th>Location</th>\n",
       "      <th>User Segment</th>\n",
       "      <th>Year</th>\n",
       "      <th>Month</th>\n",
       "      <th>Day</th>\n",
       "      <th>Hour</th>\n",
       "      <th>Feedback_Score</th>\n",
       "      <th>User_Rating</th>\n",
       "    </tr>\n",
       "  </thead>\n",
       "  <tbody>\n",
       "    <tr>\n",
       "      <th>0</th>\n",
       "      <td>uKqYhMMQ5S</td>\n",
       "      <td>Charge bar between follow student.</td>\n",
       "      <td>Important law into large example range. Player...</td>\n",
       "      <td>2023-10-31 18:02:06</td>\n",
       "      <td>4dfe56dc-efe2-49c6-be9f-ce5b84ca4de4</td>\n",
       "      <td>event</td>\n",
       "      <td>negative</td>\n",
       "      <td>incomplete</td>\n",
       "      <td>Annette Henderson</td>\n",
       "      <td>social media</td>\n",
       "      <td>German</td>\n",
       "      <td>confused</td>\n",
       "      <td>Sydney</td>\n",
       "      <td>returning customers</td>\n",
       "      <td>2023</td>\n",
       "      <td>10</td>\n",
       "      <td>31</td>\n",
       "      <td>18</td>\n",
       "      <td>-1</td>\n",
       "      <td>2</td>\n",
       "    </tr>\n",
       "    <tr>\n",
       "      <th>1</th>\n",
       "      <td>YOonrpgxp9</td>\n",
       "      <td>Bad every reflect huge contain.</td>\n",
       "      <td>Policy argue agree character go recent. When r...</td>\n",
       "      <td>2023-10-31 18:02:06</td>\n",
       "      <td>74c97616-9df6-460d-991d-c6f6f6ae5354</td>\n",
       "      <td>location</td>\n",
       "      <td>neutral</td>\n",
       "      <td>specific outcome</td>\n",
       "      <td>Nicholas Haney</td>\n",
       "      <td>mobile app</td>\n",
       "      <td>Chinese</td>\n",
       "      <td>frustrated</td>\n",
       "      <td>London</td>\n",
       "      <td>returning customers</td>\n",
       "      <td>2023</td>\n",
       "      <td>10</td>\n",
       "      <td>31</td>\n",
       "      <td>18</td>\n",
       "      <td>0</td>\n",
       "      <td>3</td>\n",
       "    </tr>\n",
       "    <tr>\n",
       "      <th>2</th>\n",
       "      <td>V0IwFXGYAg</td>\n",
       "      <td>Glass remember many dog director under.</td>\n",
       "      <td>Total rise unit recent data away. Business air...</td>\n",
       "      <td>2023-10-31 18:02:06</td>\n",
       "      <td>f3034d75-d552-4a6c-8c73-0f6b441a7bdf</td>\n",
       "      <td>event</td>\n",
       "      <td>negative</td>\n",
       "      <td>incomplete</td>\n",
       "      <td>David Smith</td>\n",
       "      <td>website chat</td>\n",
       "      <td>Spanish</td>\n",
       "      <td>excited</td>\n",
       "      <td>Tokyo</td>\n",
       "      <td>premium users</td>\n",
       "      <td>2023</td>\n",
       "      <td>10</td>\n",
       "      <td>31</td>\n",
       "      <td>18</td>\n",
       "      <td>-1</td>\n",
       "      <td>2</td>\n",
       "    </tr>\n",
       "    <tr>\n",
       "      <th>3</th>\n",
       "      <td>3mtwyCBGqy</td>\n",
       "      <td>Help charge record many talk tough.</td>\n",
       "      <td>Artist today decade. Civil score hospital othe...</td>\n",
       "      <td>2023-10-31 18:02:06</td>\n",
       "      <td>46c7bf6a-1da6-4e27-baf5-a138f1e0a1b2</td>\n",
       "      <td>service</td>\n",
       "      <td>negative</td>\n",
       "      <td>incomplete</td>\n",
       "      <td>Susan Wilson</td>\n",
       "      <td>website chat</td>\n",
       "      <td>English</td>\n",
       "      <td>frustrated</td>\n",
       "      <td>Sydney</td>\n",
       "      <td>new users</td>\n",
       "      <td>2023</td>\n",
       "      <td>10</td>\n",
       "      <td>31</td>\n",
       "      <td>18</td>\n",
       "      <td>-1</td>\n",
       "      <td>2</td>\n",
       "    </tr>\n",
       "    <tr>\n",
       "      <th>4</th>\n",
       "      <td>dSQOFGb8Pq</td>\n",
       "      <td>Position not man much material.</td>\n",
       "      <td>Character serve receive interview interest ord...</td>\n",
       "      <td>2023-10-31 18:02:06</td>\n",
       "      <td>2487c6ce-65c1-48a4-a76f-0aa6a1e92dda</td>\n",
       "      <td>service</td>\n",
       "      <td>neutral</td>\n",
       "      <td>specific outcome</td>\n",
       "      <td>Jennifer Harmon</td>\n",
       "      <td>mobile app</td>\n",
       "      <td>Spanish</td>\n",
       "      <td>confused</td>\n",
       "      <td>New York</td>\n",
       "      <td>returning customers</td>\n",
       "      <td>2023</td>\n",
       "      <td>10</td>\n",
       "      <td>31</td>\n",
       "      <td>18</td>\n",
       "      <td>0</td>\n",
       "      <td>3</td>\n",
       "    </tr>\n",
       "  </tbody>\n",
       "</table>\n",
       "</div>"
      ],
      "text/plain": [
       "      User ID                           User Utterance  \\\n",
       "0  uKqYhMMQ5S       Charge bar between follow student.   \n",
       "1  YOonrpgxp9          Bad every reflect huge contain.   \n",
       "2  V0IwFXGYAg  Glass remember many dog director under.   \n",
       "3  3mtwyCBGqy      Help charge record many talk tough.   \n",
       "4  dSQOFGb8Pq          Position not man much material.   \n",
       "\n",
       "                                        Bot Response            Timestamp  \\\n",
       "0  Important law into large example range. Player...  2023-10-31 18:02:06   \n",
       "1  Policy argue agree character go recent. When r...  2023-10-31 18:02:06   \n",
       "2  Total rise unit recent data away. Business air...  2023-10-31 18:02:06   \n",
       "3  Artist today decade. Civil score hospital othe...  2023-10-31 18:02:06   \n",
       "4  Character serve receive interview interest ord...  2023-10-31 18:02:06   \n",
       "\n",
       "                     Context/Session ID  Entities User Feedback  \\\n",
       "0  4dfe56dc-efe2-49c6-be9f-ce5b84ca4de4     event      negative   \n",
       "1  74c97616-9df6-460d-991d-c6f6f6ae5354  location       neutral   \n",
       "2  f3034d75-d552-4a6c-8c73-0f6b441a7bdf     event      negative   \n",
       "3  46c7bf6a-1da6-4e27-baf5-a138f1e0a1b2   service      negative   \n",
       "4  2487c6ce-65c1-48a4-a76f-0aa6a1e92dda   service       neutral   \n",
       "\n",
       "  Conversation Outcome       User Profile Channel/Platform Language  \\\n",
       "0           incomplete  Annette Henderson     social media   German   \n",
       "1     specific outcome     Nicholas Haney       mobile app  Chinese   \n",
       "2           incomplete        David Smith     website chat  Spanish   \n",
       "3           incomplete       Susan Wilson     website chat  English   \n",
       "4     specific outcome    Jennifer Harmon       mobile app  Spanish   \n",
       "\n",
       "  User Emotion/Sentiment  Location         User Segment  Year  Month  Day  \\\n",
       "0               confused    Sydney  returning customers  2023     10   31   \n",
       "1             frustrated    London  returning customers  2023     10   31   \n",
       "2                excited     Tokyo        premium users  2023     10   31   \n",
       "3             frustrated    Sydney            new users  2023     10   31   \n",
       "4               confused  New York  returning customers  2023     10   31   \n",
       "\n",
       "   Hour  Feedback_Score  User_Rating  \n",
       "0    18              -1            2  \n",
       "1    18               0            3  \n",
       "2    18              -1            2  \n",
       "3    18              -1            2  \n",
       "4    18               0            3  "
      ]
     },
     "execution_count": 42,
     "metadata": {},
     "output_type": "execute_result"
    }
   ],
   "source": [
    "df.head()"
   ]
  },
  {
   "cell_type": "code",
   "execution_count": 43,
   "metadata": {},
   "outputs": [
    {
     "data": {
      "image/png": "[encoded data removed]",
      "text/plain": [
       "<Figure size 640x480 with 1 Axes>"
      ]
     },
     "metadata": {},
     "output_type": "display_data"
    }
   ],
   "source": [
    "## visualization \n",
    "sns.histplot(df['User_Rating'], kde=True, bins=5)\n",
    "plt.title('User Satisfaction Ratings')\n",
    "plt.xlabel('Rating')\n",
    "plt.ylabel('Frequency')\n",
    "plt.show()"
   ]
  },
  {
   "cell_type": "code",
   "execution_count": null,
   "metadata": {},
   "outputs": [],
   "source": []
  },
  {
   "cell_type": "markdown",
   "metadata": {},
   "source": [
    "## Data Aggregation For Dashboard\n",
    "\n"
   ]
  },
  {
   "cell_type": "code",
   "execution_count": 45,
   "metadata": {},
   "outputs": [
    {
     "name": "stdout",
     "output_type": "stream",
     "text": [
      "Total Queries Per Day:\n",
      " Day\n",
      "31    10000\n",
      "dtype: int64\n",
      "Total Queries Per Hour:\n",
      " Hour\n",
      "18    10000\n",
      "dtype: int64\n"
     ]
    }
   ],
   "source": [
    "# Total Queries per day/hour\n",
    "\n",
    "queries_per_day = df.groupby('Day').size()\n",
    "queries_per_hour = df.groupby('Hour').size()\n",
    "\n",
    "print(\"Total Queries Per Day:\\n\",queries_per_day )\n",
    "print(\"Total Queries Per Hour:\\n\",queries_per_hour )"
   ]
  },
  {
   "cell_type": "code",
   "execution_count": 46,
   "metadata": {},
   "outputs": [
    {
     "name": "stdout",
     "output_type": "stream",
     "text": [
      "Top topics:\n",
      " Entities\n",
      "service     2029\n",
      "location    2024\n",
      "event       2020\n",
      "date        1983\n",
      "product     1944\n",
      "Name: count, dtype: int64\n"
     ]
    }
   ],
   "source": [
    "# Moat commaon topics\n",
    "\n",
    "top_topics = df['Entities'].value_counts().head(10)\n",
    "print(\"Top topics:\\n\", top_topics)"
   ]
  },
  {
   "cell_type": "code",
   "execution_count": 47,
   "metadata": {},
   "outputs": [
    {
     "name": "stdout",
     "output_type": "stream",
     "text": [
      "Satisfaction Rating by Day:\n",
      " Day\n",
      "31    2.9995\n",
      "Name: User_Rating, dtype: float64\n",
      "Total Queries Per Hour:\n",
      " Hour\n",
      "18    2.9995\n",
      "Name: User_Rating, dtype: float64\n"
     ]
    }
   ],
   "source": [
    "## Satisfaction Ratings\n",
    "Satisfaction_per_day = df.groupby('Day')['User_Rating'].mean()\n",
    "Satisfaction_per_hour = df.groupby('Hour')['User_Rating'].mean()\n",
    "\n",
    "print(\"Satisfaction Rating by Day:\\n\",Satisfaction_per_day )\n",
    "print(\"Total Queries Per Hour:\\n\",Satisfaction_per_hour )"
   ]
  },
  {
   "cell_type": "code",
   "execution_count": null,
   "metadata": {},
   "outputs": [],
   "source": []
  }
 ],
 "metadata": {
  "kernelspec": {
   "display_name": "intern_task1",
   "language": "python",
   "name": "python3"
  },
  "language_info": {
   "codemirror_mode": {
    "name": "ipython",
    "version": 3
   },
   "file_extension": ".py",
   "mimetype": "text/x-python",
   "name": "python",
   "nbconvert_exporter": "python",
   "pygments_lexer": "ipython3",
   "version": "3.9.20"
  }
 },
 "nbformat": 4,
 "nbformat_minor": 2
}
